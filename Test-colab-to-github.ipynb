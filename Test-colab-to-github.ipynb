{
    "cells": [
        {
            "cell_type": "code",
            "metadata": {
                "id": "7DJ1xunQtPO8",
                "colab": {
                    "height": 35,
                    "base_uri": "https://localhost:8080/"
                },
                "outputId": "2a736275-b633-493b-9bd5-ade514e02bf2",
                "executionInfo": {
                    "user": {
                        "userId": "17522976166302801080",
                        "displayName": "Haider Rizvi"
                    },
                    "status": "ok",
                    "elapsed": 4,
                    "user_tz": -330,
                    "timestamp": 1746988671309
                },
                "cell_id": "ea2054adc2604785b8f6d80335fc7b98",
                "deepnote_cell_type": "code"
            },
            "source": "import os\nos.getcwd()",
            "block_group": "b979f64be27c4e4db0dde33f28494eeb",
            "execution_count": 3,
            "outputs": [
                {
                    "output_type": "execute_result",
                    "data": {
                        "text/plain": "'/content'",
                        "application/vnd.google.colaboratory.intrinsic+json": {
                            "type": "string"
                        }
                    },
                    "metadata": {},
                    "execution_count": 3
                }
            ],
            "outputs_reference": "dbtable:cell_outputs/8efb5a5a-85b5-4cd4-bf5a-c82fdefae6e3",
            "content_dependencies": null
        },
        {
            "cell_type": "code",
            "metadata": {
                "id": "QRBUwycHsB1g",
                "colab": {
                    "base_uri": "https://localhost:8080/"
                },
                "outputId": "141642a1-30ef-4049-94d0-21df1697e65e",
                "executionInfo": {
                    "user": {
                        "userId": "17522976166302801080",
                        "displayName": "Haider Rizvi"
                    },
                    "status": "ok",
                    "elapsed": 23814,
                    "user_tz": -330,
                    "timestamp": 1746988698891
                },
                "cell_id": "f78c026ec68044e8b64f73def9e13b8c",
                "deepnote_cell_type": "code"
            },
            "source": "from google.colab import drive\ndrive.mount('/content/drive')",
            "block_group": "3dc98f57709d4ca58ae9fd88d5fb18b9",
            "execution_count": 4,
            "outputs": [
                {
                    "output_type": "stream",
                    "name": "stdout",
                    "text": "Mounted at /content/drive\n"
                }
            ],
            "outputs_reference": "dbtable:cell_outputs/1d049a5e-1c02-4280-803d-b0e32fa77b70",
            "content_dependencies": null
        },
        {
            "cell_type": "code",
            "metadata": {
                "id": "lkZputu1tGzm",
                "colab": {
                    "base_uri": "https://localhost:8080/"
                },
                "outputId": "986d86f4-3342-48e0-daf9-e1ac37c1346e",
                "executionInfo": {
                    "user": {
                        "userId": "17522976166302801080",
                        "displayName": "Haider Rizvi"
                    },
                    "status": "ok",
                    "elapsed": 297,
                    "user_tz": -330,
                    "timestamp": 1746988730997
                },
                "cell_id": "2e31066022d74a69886974eec5877752",
                "deepnote_cell_type": "code"
            },
            "source": "%cd /content/drive/MyDrive",
            "block_group": "74a77d34a4ce4f1ca7f5aea23fe19bde",
            "execution_count": 5,
            "outputs": [
                {
                    "output_type": "stream",
                    "name": "stdout",
                    "text": "/content/drive/MyDrive/ghost-cell-buster\n"
                }
            ],
            "outputs_reference": "dbtable:cell_outputs/a16da6ce-0f61-429e-87f0-167e953b8257",
            "content_dependencies": null
        },
        {
            "cell_type": "code",
            "metadata": {
                "id": "gciPg-ZPtHKv",
                "colab": {
                    "base_uri": "https://localhost:8080/"
                },
                "outputId": "be6e6db1-3e15-4996-866f-5ca3354db2be",
                "executionInfo": {
                    "user": {
                        "userId": "17522976166302801080",
                        "displayName": "Haider Rizvi"
                    },
                    "status": "ok",
                    "elapsed": 911,
                    "user_tz": -330,
                    "timestamp": 1746973848272
                },
                "cell_id": "26665c9120394857af146e863e28c136",
                "deepnote_cell_type": "code"
            },
            "source": "!git clone https://github.com/caffiendFrog/ghost-cell-buster.git",
            "block_group": "d0b7573b668d4ea7af0cf5fe8cdbdb82",
            "execution_count": null,
            "outputs": [
                {
                    "output_type": "stream",
                    "name": "stdout",
                    "text": "Cloning into 'ghost-cell-buster'...\nfatal: could not read Username for 'https://github.com': No such device or address\n"
                }
            ],
            "outputs_reference": "dbtable:cell_outputs/e01d7699-795c-4199-935e-6b8b315d92a3",
            "content_dependencies": null
        },
        {
            "cell_type": "code",
            "metadata": {
                "id": "efIf-pR4tHZa",
                "colab": {
                    "base_uri": "https://localhost:8080/"
                },
                "outputId": "e7a7967c-cb2f-43e2-c587-a0ec5e466a2c",
                "executionInfo": {
                    "user": {
                        "userId": "17522976166302801080",
                        "displayName": "Haider Rizvi"
                    },
                    "status": "ok",
                    "elapsed": 1210,
                    "user_tz": -330,
                    "timestamp": 1746974604733
                },
                "cell_id": "5604b3f615e441da9ed456296469c39b",
                "deepnote_cell_type": "code"
            },
            "source": "!git clone https://{personal_access_token}@github.com/caffiendFrog/ghost-cell-buster.git",
            "block_group": "086213c65c804260ae3edd89678ed27b",
            "execution_count": null,
            "outputs": [
                {
                    "output_type": "stream",
                    "name": "stdout",
                    "text": "Cloning into 'ghost-cell-buster'...\nremote: Enumerating objects: 8, done.\u001b[K\nremote: Counting objects: 100% (8/8), done.\u001b[K\nremote: Compressing objects: 100% (6/6), done.\u001b[K\nremote: Total 8 (delta 1), reused 4 (delta 1), pack-reused 0 (from 0)\u001b[K\nReceiving objects: 100% (8/8), 15.59 KiB | 3.12 MiB/s, done.\nResolving deltas: 100% (1/1), done.\n"
                }
            ],
            "outputs_reference": "dbtable:cell_outputs/45aa0b6e-14d9-4bf7-ae92-7c0538b64d87",
            "content_dependencies": null
        },
        {
            "cell_type": "code",
            "metadata": {
                "id": "D5e6jTeYzPei",
                "cell_id": "837b84bd7f17438bb14b657b2e50213d",
                "deepnote_cell_type": "code"
            },
            "source": "!git config --global user.name \"Haider Rizvi\"\n!git config --global user.email \"rizvihaider0801@icloud.com\"",
            "block_group": "97a9f9fa2c1d44ab8e90774abee34a84",
            "execution_count": null,
            "outputs": [],
            "outputs_reference": null,
            "content_dependencies": null
        },
        {
            "cell_type": "code",
            "metadata": {
                "id": "0izAaQsHzxRo",
                "colab": {
                    "base_uri": "https://localhost:8080/"
                },
                "outputId": "cc10f973-6651-4e3c-cfe6-6f62044e56f0",
                "executionInfo": {
                    "user": {
                        "userId": "17522976166302801080",
                        "displayName": "Haider Rizvi"
                    },
                    "status": "ok",
                    "elapsed": 20,
                    "user_tz": -330,
                    "timestamp": 1746974777983
                },
                "cell_id": "1f46ea0f36624ded814ca55b5cb30767",
                "deepnote_cell_type": "code"
            },
            "source": "%cd ghost-cell-buster/",
            "block_group": "79997a42eecd4d348b1af4b26bf55daa",
            "execution_count": null,
            "outputs": [
                {
                    "output_type": "stream",
                    "name": "stdout",
                    "text": "/content/drive/MyDrive/ghost-cell-buster\n"
                }
            ],
            "outputs_reference": "dbtable:cell_outputs/cc3e143c-7622-4c23-adf6-789c23a1d6bf",
            "content_dependencies": null
        },
        {
            "cell_type": "code",
            "metadata": {
                "id": "qWJz-1HTDiV7",
                "colab": {
                    "base_uri": "https://localhost:8080/"
                },
                "outputId": "eef2ec65-e1b4-4c88-bdd0-664a933d7e3a",
                "executionInfo": {
                    "user": {
                        "userId": "17522976166302801080",
                        "displayName": "Haider Rizvi"
                    },
                    "status": "ok",
                    "elapsed": 611,
                    "user_tz": -330,
                    "timestamp": 1746978885220
                },
                "cell_id": "4808c099afbc43d8be28efb5a492eb37",
                "deepnote_cell_type": "code"
            },
            "source": "!git pull origin main",
            "block_group": "bbc8d438f6c8438886f0890234635ddb",
            "execution_count": null,
            "outputs": [
                {
                    "output_type": "stream",
                    "name": "stdout",
                    "text": "From https://github.com/caffiendFrog/ghost-cell-buster\n * branch            main       -> FETCH_HEAD\nAlready up to date.\n"
                }
            ],
            "outputs_reference": "dbtable:cell_outputs/c2e386cb-a52c-466b-90bb-f236a19f43e4",
            "content_dependencies": null
        },
        {
            "cell_type": "code",
            "metadata": {
                "id": "3f5cumhWz6ER",
                "cell_id": "cf4482c06c9f4661ae26f78726b3ecf6",
                "deepnote_cell_type": "code"
            },
            "source": "!mv \"/content/drive/MyDrive/Colab Notebooks/Test-colab-to-github.ipynb\" \"/content/drive/MyDrive/ghost-cell-buster/Test-colab-to-github.ipynb\"",
            "block_group": "1357042b9fad4b688ea0230bf5880ddd",
            "execution_count": null,
            "outputs": [],
            "outputs_reference": null,
            "content_dependencies": null
        },
        {
            "cell_type": "code",
            "metadata": {
                "id": "QREeeBRLBZ5w",
                "cell_id": "9379de3914db4119ad37cd5f38c26c41",
                "deepnote_cell_type": "code"
            },
            "source": "!git add .",
            "block_group": "0a26fdee80f0406cbf52f9e20ecf262c",
            "execution_count": null,
            "outputs": [],
            "outputs_reference": null,
            "content_dependencies": null
        },
        {
            "cell_type": "code",
            "metadata": {
                "id": "mXYmlWVKDoiq",
                "colab": {
                    "base_uri": "https://localhost:8080/"
                },
                "outputId": "4b4ea858-8d46-41fd-b5b9-fed3e13ca361",
                "executionInfo": {
                    "user": {
                        "userId": "17522976166302801080",
                        "displayName": "Haider Rizvi"
                    },
                    "status": "ok",
                    "elapsed": 210,
                    "user_tz": -330,
                    "timestamp": 1746980006171
                },
                "cell_id": "3a5e8089e0dd4e7c90850c807d8fe2b4",
                "deepnote_cell_type": "code"
            },
            "source": "! git commit -m \"First python notebook\"",
            "block_group": "88c3774c9a294d2bb701acafb84bc88b",
            "execution_count": null,
            "outputs": [
                {
                    "output_type": "stream",
                    "name": "stdout",
                    "text": "[haider af34980] Changes to notebook and branch\n 1 file changed, 1 insertion(+), 1 deletion(-)\n"
                }
            ],
            "outputs_reference": "dbtable:cell_outputs/d39730c2-5174-4c40-a329-ada75b551786",
            "content_dependencies": null
        },
        {
            "cell_type": "code",
            "metadata": {
                "id": "GDpLJgJFDvBv",
                "colab": {
                    "base_uri": "https://localhost:8080/"
                },
                "outputId": "b1be89c8-db10-41ae-fd02-1cc07173855c",
                "executionInfo": {
                    "user": {
                        "userId": "17522976166302801080",
                        "displayName": "Haider Rizvi"
                    },
                    "status": "ok",
                    "elapsed": 810,
                    "user_tz": -330,
                    "timestamp": 1746980008631
                },
                "cell_id": "d02c470aa91744f390127d1ebd62d47d",
                "deepnote_cell_type": "code"
            },
            "source": "!git push origin main",
            "block_group": "2a3d5955b71149f8b4f385deb2439ab3",
            "execution_count": null,
            "outputs": [
                {
                    "output_type": "stream",
                    "name": "stdout",
                    "text": "Enumerating objects: 5, done.\nCounting objects:  20% (1/5)\rCounting objects:  40% (2/5)\rCounting objects:  60% (3/5)\rCounting objects:  80% (4/5)\rCounting objects: 100% (5/5)\rCounting objects: 100% (5/5), done.\nDelta compression using up to 2 threads\nCompressing objects:  33% (1/3)\rCompressing objects:  66% (2/3)\rCompressing objects: 100% (3/3)\rCompressing objects: 100% (3/3), done.\nWriting objects:  33% (1/3)\rWriting objects:  66% (2/3)\rWriting objects: 100% (3/3)\rWriting objects: 100% (3/3), 883 bytes | 80.00 KiB/s, done.\nTotal 3 (delta 2), reused 0 (delta 0), pack-reused 0\nremote: Resolving deltas:   0% (0/2)\u001b[K\rremote: Resolving deltas:  50% (1/2)\u001b[K\rremote: Resolving deltas: 100% (2/2)\u001b[K\rremote: Resolving deltas: 100% (2/2), completed with 2 local objects.\u001b[K\nTo https://github.com/caffiendFrog/ghost-cell-buster.git\n   912bf49..af34980  haider -> haider\n"
                }
            ],
            "outputs_reference": "dbtable:cell_outputs/fee407b4-dc76-4c65-8f73-f91ffbca5842",
            "content_dependencies": null
        },
        {
            "cell_type": "code",
            "metadata": {
                "source_hash": "a86a999a",
                "execution_start": 1746988837389,
                "execution_millis": 8,
                "execution_context_id": "dfe15234-7c67-4b8f-8e63-afd711702ca4",
                "cell_id": "6f9fa8de236641e493852f0a5a666532",
                "deepnote_cell_type": "code"
            },
            "source": "print(\"New stuff on deepnote\")",
            "block_group": "f9138c7dcc8b4006b43a9f19461c1f0e",
            "execution_count": 1,
            "outputs": [
                {
                    "name": "stdout",
                    "text": "New stuff on deepnote\n",
                    "output_type": "stream"
                }
            ],
            "outputs_reference": "dbtable:cell_outputs/d70e5f9b-0f1b-4b84-ae90-01a3cd98cc49",
            "content_dependencies": null
        },
        {
            "cell_type": "code",
            "metadata": {
                "source_hash": "f959fda0",
                "execution_start": 1746988997107,
                "execution_millis": 2248,
                "execution_context_id": "dfe15234-7c67-4b8f-8e63-afd711702ca4",
                "cell_id": "aa081ef210e94db3ae94151613c57b04",
                "deepnote_cell_type": "code"
            },
            "source": "!git add .",
            "block_group": "b18f0cf4e1054c589f9554f932f6afe2",
            "execution_count": 16,
            "outputs": [],
            "outputs_reference": null,
            "content_dependencies": null
        },
        {
            "cell_type": "code",
            "metadata": {
                "source_hash": "4613259e",
                "execution_start": 1746989000965,
                "execution_millis": 7494,
                "execution_context_id": "dfe15234-7c67-4b8f-8e63-afd711702ca4",
                "cell_id": "5f4842ec7b754e389982977d00476923",
                "deepnote_cell_type": "code"
            },
            "source": "!git commit -m \"Second python notebook\"",
            "block_group": "5566494912d64ae1be1df8eedb2a475f",
            "execution_count": 19,
            "outputs": [
                {
                    "name": "stdout",
                    "text": "[main b96a9c1] Second python notebook\n Committer: root <root@p-d3c73e33-9c80-4d12-b10c-a6e0baca492a.projects-domain.projects.svc.cluster.local>\nYour name and email address were configured automatically based\non your username and hostname. Please check that they are accurate.\nYou can suppress this message by setting them explicitly. Run the\nfollowing command and follow the instructions in your editor to edit\nyour configuration file:\n\n    git config --global --edit\n\nAfter doing this, you may fix the identity used for this commit with:\n\n    git commit --amend --reset-author\n\n 1 file changed, 454 insertions(+), 1 deletion(-)\n rewrite Test-colab-to-github.ipynb (100%)\n",
                    "output_type": "stream"
                }
            ],
            "outputs_reference": "dbtable:cell_outputs/10c14e18-8dac-4c95-96cb-c13cdd61e7da",
            "content_dependencies": null
        },
        {
            "cell_type": "code",
            "metadata": {
                "source_hash": "bd7eb667",
                "execution_start": 1746989008507,
                "execution_millis": 6710,
                "execution_context_id": "dfe15234-7c67-4b8f-8e63-afd711702ca4",
                "cell_id": "039b2e6b644e45daa79ed3263c23b5ff",
                "deepnote_cell_type": "code"
            },
            "source": "!git push origin main",
            "block_group": "e9b48c301f16487da12b46a76f53bbcd",
            "execution_count": 20,
            "outputs": [
                {
                    "name": "stdout",
                    "text": "Enumerating objects: 5, done.\nCounting objects: 100% (5/5), done.\nDelta compression using up to 4 threads\nCompressing objects: 100% (3/3), done.\nWriting objects: 100% (3/3), 5.24 KiB | 27.00 KiB/s, done.\nTotal 3 (delta 1), reused 0 (delta 0), pack-reused 0\nremote: Resolving deltas: 100% (1/1), completed with 1 local object.\u001b[K\nTo https://github.com/hr080100/ghost-cell-buster.git\n   786abe1..b96a9c1  main -> main\n",
                    "output_type": "stream"
                }
            ],
            "outputs_reference": "dbtable:cell_outputs/c32fd10e-1518-43b0-a986-502fb4676c28",
            "content_dependencies": null
        },
        {
            "cell_type": "markdown",
            "source": "<a style='text-decoration:none;line-height:16px;display:flex;color:#5B5B62;padding:10px;justify-content:end;' href='https://deepnote.com?utm_source=created-in-deepnote-cell&projectId=d3c73e33-9c80-4d12-b10c-a6e0baca492a' target=\"_blank\">\n<img alt='Created in deepnote.com' style='display:inline;max-height:16px;margin:0px;margin-right:7.5px;' src='data:image/svg+xml;base64,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' > </img>\nCreated in <span style='font-weight:600;margin-left:4px;'>Deepnote</span></a>",
            "metadata": {
                "created_in_deepnote_cell": true,
                "deepnote_cell_type": "markdown"
            }
        }
    ],
    "nbformat": 4,
    "nbformat_minor": 0,
    "metadata": {
        "deepnote_notebook_id": "ffdeae2442584d8a9d15fe631d67e2a9"
    }
}